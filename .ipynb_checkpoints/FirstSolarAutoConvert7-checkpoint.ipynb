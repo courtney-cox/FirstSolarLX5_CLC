{
 "cells": [
  {
   "cell_type": "markdown",
   "id": "5db08dab-dcc1-4a66-b41e-d17a7735cf70",
   "metadata": {},
   "source": [
    "## Some setup"
   ]
  },
  {
   "cell_type": "code",
   "execution_count": 1,
   "id": "603c23b1-c4bf-4aeb-b4fa-83a537b4ab76",
   "metadata": {},
   "outputs": [],
   "source": [
    "import os\n",
    "os.chdir(r\"C:\\Users\\Brian david\\Documents\\venvTags\")\n",
    "import re\n",
    "from lxml import etree as ET\n",
    "import copy"
   ]
  },
  {
   "cell_type": "code",
   "execution_count": 2,
   "id": "b54c8692-6eb0-4ac1-abbe-f69754dc3094",
   "metadata": {},
   "outputs": [
    {
     "name": "stdout",
     "output_type": "stream",
     "text": [
      "C:\\Users\\Brian David\\Documents\\AI\\First Solar\\PGT-3Local\\AutoConversion\\include\\\n"
     ]
    }
   ],
   "source": [
    "#fn=r\"C:\\Users\\Brian David\\Documents\\AI\\First Solar\\PGT-3Local\\AutoConversion\\CVS004NoSafety.L5X\"\n",
    "fn=r\"G:\\Shared drives\\Engineers\\Projects\\Rockwell Automation\\First Solar\\PGT 3\\Development\\_PLC\\04 - CVS019-CVS023 - CHT Ovens\\PLC - EMULATION\\PGT31A_CVS019NoSafety.L5X\"\n",
    "includes=r\"C:\\Users\\Brian David\\Documents\\AI\\First Solar\\PGT-3Local\\AutoConversion\\include\" +'\\\\'\n",
    "# preprocess file so ET doesn't strip CDATA\n",
    "parser = ET.XMLParser(strip_cdata=False)\n",
    "prj = ET.parse(fn, parser=parser)\n",
    "\n",
    "#root = tree.getroot()\n",
    "print(includes)"
   ]
  },
  {
   "cell_type": "code",
   "execution_count": 3,
   "id": "2fd8479a-4c3e-4c72-94ca-859804c423d3",
   "metadata": {},
   "outputs": [],
   "source": [
    "#perform a table lookup\n",
    "ipLookup = open(includes + 'IPs.txt','r')\n",
    "ipDict = {}\n",
    "for line in ipLookup:\n",
    "    items = line.rstrip('\\n').split(',')\n",
    "    key, values = items[0], items[1:]\n",
    "    ipDict[key] = values"
   ]
  },
  {
   "cell_type": "markdown",
   "id": "ec46c788-d011-43c5-8064-d40a92a50f28",
   "metadata": {},
   "source": [
    "## Declare Some Methods"
   ]
  },
  {
   "cell_type": "code",
   "execution_count": null,
   "id": "64f7e753-de22-4109-9315-5cc93c913f16",
   "metadata": {},
   "outputs": [],
   "source": []
  },
  {
   "cell_type": "code",
   "execution_count": 4,
   "id": "0fb1dbe6-9ab9-4b38-8a22-a432c78a1ba7",
   "metadata": {},
   "outputs": [],
   "source": [
    "def saveFile(saveIdx):\n",
    "    fnew = fn.replace('NoSafety.L5X',\"AutoGen\" + saveIdx + '.L5X')\n",
    "    temp = includes +'temp.l5x'\n",
    "    prj.write(temp)\n",
    "    \n",
    "    fin=open(temp,'rt')\n",
    "    fout=open(fnew,'wt')\n",
    "    fout.write('<?xml version=\"1.0\" encoding=\"UTF-8\" standalone=\"yes\"?>')\n",
    "    for line in fin:\n",
    "        fout.write(line)"
   ]
  },
  {
   "cell_type": "code",
   "execution_count": 5,
   "id": "160887b6-aa4f-466e-946d-f336aab212bf",
   "metadata": {},
   "outputs": [],
   "source": [
    "#saveFile('_0_0')"
   ]
  },
  {
   "cell_type": "code",
   "execution_count": 6,
   "id": "bffa0965-4335-4ff9-9b59-a1b1a610c6fc",
   "metadata": {},
   "outputs": [],
   "source": [
    "\n",
    "def findElement(elementName, elementType, parent, attribute):\n",
    "    for element in parent.iter(elementType):\n",
    "            if element.attrib[attribute] == elementName:\n",
    "                return element\n",
    "\n",
    "def getModule(moduleName):\n",
    "    return findElement(moduleName, 'Module', prj, 'Name')  \n",
    "\n",
    "def getProgram(prgName):\n",
    "    return findElement(prgName, 'Program', prj, 'Name')  \n",
    "\n",
    "def getRoutine(prgName, routName):\n",
    "    prg = getProgram(prgName)\n",
    "    return findElement(routName, 'Routine', prg, 'Name')  \n",
    "\n",
    "def getRung(prgName, routName, rungNum):\n",
    "    rout = getRoutine(prgName,routName)\n",
    "    return findElement(rungNum, 'Rung', rout, 'Number')  \n",
    "\n",
    "def rungText(prgName, routName, rungNum):\n",
    "    rungT = getRung(prgName,routName,rungNum)\n",
    "    for text in rungT.iter('Text'):\n",
    "        return text.text\n",
    "\n",
    "def rungTextWrite(prgName, routName, rungNum, textIn):\n",
    "    rungT = getRung(prgName,routName,rungNum)\n",
    "    for text in rungT.iter('Text'):\n",
    "        text.text = textIn"
   ]
  },
  {
   "cell_type": "markdown",
   "id": "9cffd482-fabd-4f77-af1c-5328f591f017",
   "metadata": {},
   "source": [
    "## 1 - Non-Safety PLC"
   ]
  },
  {
   "cell_type": "code",
   "execution_count": 7,
   "id": "d0e9ac9c-77fa-40e4-be05-9e270c2786d2",
   "metadata": {},
   "outputs": [],
   "source": [
    "# this is done manually for now\n",
    "\n",
    "# get controller scoped tags for later\n",
    "#for controller in prj.iter('Controller'):\n",
    "#    controllertags = controller.xpath('Tags')"
   ]
  },
  {
   "cell_type": "markdown",
   "id": "8c4d0944-55b8-4c8c-9c84-ab332cf63b8f",
   "metadata": {},
   "source": [
    "### 2 - 17 Slot Chassis"
   ]
  },
  {
   "cell_type": "code",
   "execution_count": 8,
   "id": "584b675e-7f60-4688-b099-6aeebb792bb8",
   "metadata": {},
   "outputs": [],
   "source": [
    "#<Bus Size=\"17\"/>\n",
    "for controller in prj.iter('Controller'):\n",
    "    name = controller.attrib['Name']\n",
    "idx = name.find('CVS')\n",
    "adr = str(int(name[idx+3:idx+6]))\n",
    "module = getModule('Local')\n",
    "for port in module.iter('Port'):\n",
    "        #resize bus (#2)\n",
    "        for nodes in port:\n",
    "            nodes.attrib['Size'] = '17'\n",
    "#saveFile('_2_1')"
   ]
  },
  {
   "cell_type": "markdown",
   "id": "209e6dff-bed6-41e7-83cc-cc89462fa1a9",
   "metadata": {},
   "source": [
    "### 3 - Add PLCs"
   ]
  },
  {
   "cell_type": "code",
   "execution_count": 9,
   "id": "f13854a5-6176-4627-b1ad-7a5d5202b14c",
   "metadata": {},
   "outputs": [
    {
     "name": "stdout",
     "output_type": "stream",
     "text": [
      "PLC_02A03 12\n",
      "PLC_02A04 13\n",
      "PLC_02A05 14\n",
      "PLC_02A06 15\n"
     ]
    }
   ],
   "source": [
    "# shift modules to end spots\n",
    "# /modules/port\n",
    "for module in prj.iter('Module'):\n",
    "    #print(module.attrib['Name'])\n",
    "    if(module.attrib['ParentModule'] == \"Local\" and module.attrib[\"ParentModPortId\"] == \"1\"):\n",
    "        for port in module.iter('Port'):\n",
    "            if(port.attrib['Id']=='1'):\n",
    "                if int(port.attrib[\"Address\"]) > 0 and int(port.attrib[\"Address\"]) < 12:\n",
    "                    oldAdr = str(int(port.attrib[\"Address\"]))\n",
    "                    adr = str(11 + int(port.attrib[\"Address\"]))\n",
    "                    print(module.attrib['Name'] + \" \" + adr)\n",
    "                    port.attrib[\"Address\"] = adr\n",
    "                    \n",
    "                    #run through all rungs in MainProgram and update local\n",
    "                    for mainProgram in getProgram('MainProgram'):\n",
    "                        for text in mainProgram.iter('Text'):\n",
    "                            if 'Local:' + oldAdr + ':' in text.text:\n",
    "                                text.text = text.text.replace('Local:' + oldAdr + ':','Local:' + adr + ':')\n",
    "                    # do again for controller network diagnostics            \n",
    "                    for mainProgram in getProgram('Controller_Network_Diagnostic'):\n",
    "                        for text in mainProgram.iter('Text'):\n",
    "                            if 'Local:' + oldAdr + ':' in text.text:\n",
    "                                text.text = text.text.replace('Local:' + oldAdr + ':','Local:' + adr + ':')\n",
    "#saveFile('_3_1')"
   ]
  },
  {
   "cell_type": "code",
   "execution_count": 10,
   "id": "8f21b953-d8f3-4965-b8aa-d4d92ecf8c0a",
   "metadata": {},
   "outputs": [],
   "source": [
    "# modify code to match above shift\n",
    "#rungTextWrite('MainProgram','MainRoutine','1','CPS(Local:13:I.Data,system_inputs,1)CPS(Local:14:I.Data,system_inputs2,1);')\n",
    "#saveFile('_3_2')"
   ]
  },
  {
   "cell_type": "code",
   "execution_count": 11,
   "id": "34e31385-3188-42b1-9423-bdf3863454c3",
   "metadata": {},
   "outputs": [],
   "source": [
    "#shift current PLC\n",
    "for controller in prj.iter('Controller'):\n",
    "    name = controller.attrib['Name']\n",
    "idx = name.find('CVS')\n",
    "address = ipDict[(name[idx:idx+6])][0]\n",
    "module = getModule('Local')\n",
    "for port in module.iter('Port'):\n",
    "    if port.attrib['Id'] == '1':\n",
    "        port.attrib[\"Address\"] = address\n",
    "#saveFile('_3_3')"
   ]
  },
  {
   "cell_type": "code",
   "execution_count": 12,
   "id": "1ef562b5-a0de-4a41-8f4a-2121eebe4a38",
   "metadata": {},
   "outputs": [
    {
     "name": "stdout",
     "output_type": "stream",
     "text": [
      "Interlocks_CVS020\n",
      "Interlocks_CVS021\n"
     ]
    }
   ],
   "source": [
    "# determine which PLCs need to be added\n",
    "# /program\n",
    "auxPLCs = []\n",
    "for pgm in prj.iter('Program'):\n",
    "    if('Interlocks_CVS' in pgm.attrib['Name']):\n",
    "        idx = pgm.attrib['Name'].find('CVS')\n",
    "        auxPLCs.append(pgm.attrib['Name'][idx:idx+6])\n",
    "        print(pgm.attrib['Name'])\n",
    "        \n",
    "        # add some tags\n",
    "      #  emulationTags = ET.parse(includes+'auxPLCTags.L5X', parser=parser)\n",
    "      #  for tags in controller.xpath('Tags'):\n",
    "      #      for emulationTag in emulationTags.iter('Tag'):\n",
    "      #          emulationTag.attrib['Name'] = pgm.attrib['Name'][idx:idx+6]\n",
    "      #          if emulationTag.attrib['TagType'] == 'Consumed':\n",
    "      #              emulationTag.attrib['Producer'] = emulationTag.attrib['Producer'].replace('CVS003',pgm.attrib['Name'][idx:idx+6])\n",
    "      #              emulationTag.attrib['RemoteTag'] = emulationTag.attrib['RemoteTag'].replace('CVS004',pgm.attrib['Name'][idx:idx+6])\n",
    "      #          tags.append(emulationTag)\n",
    "      #          print(emulationTag)\n",
    "#saveFile('_3_4')"
   ]
  },
  {
   "cell_type": "code",
   "execution_count": 13,
   "id": "172e013a-3322-4e7b-a5e9-97cf8a16962f",
   "metadata": {},
   "outputs": [
    {
     "name": "stdout",
     "output_type": "stream",
     "text": [
      "C:\\Users\\Brian David\\Documents\\AI\\First Solar\\PGT-3Local\\AutoConversion\\include\\auxPLC.L5x\n",
      "<bound method _ElementTree.iter of <lxml.etree._ElementTree object at 0x000001484C0A8140>>\n",
      "3\n"
     ]
    }
   ],
   "source": [
    "# add PLCs for communications\n",
    "print(includes+'auxPLC.L5x')\n",
    "auxPLCDef = ET.parse(includes+'auxPLC.L5x')\n",
    "#auxPLCDef = newModule.firstChild #newModule.getroot()\n",
    "\n",
    "print(auxPLCDef.iter)\n",
    "\n",
    "for auxPLC in auxPLCs: \n",
    "    idx = auxPLC.find('CVS')\n",
    "    auxAddress = ipDict[(auxPLC[idx:idx+6])][0]\n",
    "    for auxModule in auxPLCDef.iter('Module'):\n",
    "        auxModCopy = copy.deepcopy(auxModule)\n",
    "        auxModCopy.attrib['Name'] = auxPLC\n",
    "    for auxPort in auxModCopy.iter('Port'):\n",
    "        if auxPort.attrib['Id'] == '1':\n",
    "            auxPort.attrib[\"Address\"] = auxAddress\n",
    "    for modules in prj.iter('Modules'):\n",
    "        modules.append(auxModCopy)\n",
    "    \n",
    "#saveFile('_3_5')\n",
    "print(auxAddress)"
   ]
  },
  {
   "cell_type": "markdown",
   "id": "caa63850-1532-4846-a19e-6aa4da849ae7",
   "metadata": {},
   "source": [
    "### 4 - UDT Import"
   ]
  },
  {
   "cell_type": "code",
   "execution_count": 14,
   "id": "422df1e5-d4c7-43b9-9095-d499a973ff5c",
   "metadata": {},
   "outputs": [],
   "source": [
    "#prj.addons.names UDTs can be brought in with AOIs?"
   ]
  },
  {
   "cell_type": "code",
   "execution_count": null,
   "id": "cc80a2e2-db4c-4153-95d3-3bc48a94cd6f",
   "metadata": {},
   "outputs": [],
   "source": [
    "\n"
   ]
  },
  {
   "cell_type": "markdown",
   "id": "63c91e6a-7f80-49fa-9e7f-756e3b2408aa",
   "metadata": {},
   "source": [
    "## 5 - Prod/Cons Tags"
   ]
  },
  {
   "cell_type": "code",
   "execution_count": 15,
   "id": "d16eb6fe-ea74-491e-b7b5-89a9bca4c5bf",
   "metadata": {},
   "outputs": [],
   "source": [
    "# look at interlocks to determine which ones are needed"
   ]
  },
  {
   "cell_type": "code",
   "execution_count": 16,
   "id": "e8c50297-25fa-48b8-b01d-390272d2e6a8",
   "metadata": {},
   "outputs": [],
   "source": [
    "emulationTag = ET.parse(includes+'emulation_active.L5X', parser=parser).getroot()\n",
    "for tags in controller.xpath('Tags'):\n",
    "    tags.append(emulationTag)\n",
    "    \n"
   ]
  },
  {
   "cell_type": "markdown",
   "id": "7519b16a-744d-4b20-a708-286fc7f4f3ee",
   "metadata": {},
   "source": [
    "## 6 - IP Addresses "
   ]
  },
  {
   "cell_type": "code",
   "execution_count": 17,
   "id": "67dd363c-9dff-4e20-a1b9-67eb11e093be",
   "metadata": {},
   "outputs": [],
   "source": [
    "#192.168.236 IP addresses with 192.168.X"
   ]
  },
  {
   "cell_type": "code",
   "execution_count": 18,
   "id": "bfc0c0e3-de09-45d5-a166-d966a2a1ca90",
   "metadata": {},
   "outputs": [
    {
     "name": "stdout",
     "output_type": "stream",
     "text": [
      "Local 2 has no address\n",
      "CVS020 2 has no address\n",
      "CVS021 2 has no address\n"
     ]
    }
   ],
   "source": [
    "# /modules/port\n",
    "for module in prj.iter('Module'):   \n",
    "        for port in module.iter('Port'):\n",
    "            try:\n",
    "                if(module.attrib[\"ParentModPortId\"] == '1' and port.attrib[\"Address\"] is not None ):\n",
    "                    adr = port.attrib[\"Address\"]\n",
    "                    adr=adr.replace('192.168.236','10.0.'+str(int(auxPLC[3:6])))\n",
    "                    #print(adr)\n",
    "                    port.attrib[\"Address\"] = adr\n",
    "            except Exception:\n",
    "                print(module.attrib['Name'] + ' ' + port.attrib['Id'] + ' has no address')\n",
    "                pass\n",
    "#saveFile('_6_1')"
   ]
  },
  {
   "cell_type": "markdown",
   "id": "5ef9ff21-1a37-4df8-9911-f48b14810aa4",
   "metadata": {},
   "source": [
    "## 7 - Set RPI"
   ]
  },
  {
   "cell_type": "code",
   "execution_count": 19,
   "id": "45cba175-6f91-45a1-b6cc-721823c8cb9a",
   "metadata": {},
   "outputs": [
    {
     "name": "stdout",
     "output_type": "stream",
     "text": [
      "_200424012C642C65 has no RPI\n",
      "_200424012C642C65 has no RPI\n",
      "_200424012C642C65 has no RPI\n",
      "_200424012C642C65 has no RPI\n",
      "_200424012C642C65 has no RPI\n",
      "_200424012C642C65 has no RPI\n",
      "_200424012C642C65 has no RPI\n",
      "_200424012C642C65 has no RPI\n"
     ]
    }
   ],
   "source": [
    "# /modules/connections\n",
    "for conn in prj.iter('Connection'): \n",
    "    try:\n",
    "        if conn.attrib['RPI'] == '20000':\n",
    "            conn.attrib['RPI'] = '50000'\n",
    "    except:\n",
    "        print(conn.attrib['Name'] + ' has no RPI')\n",
    "        pass\n",
    " \n",
    "#saveFile('_7_1')"
   ]
  },
  {
   "cell_type": "markdown",
   "id": "d4c9fdec-c46b-4615-a64b-d23030785a65",
   "metadata": {},
   "source": [
    "## 7.1 - Inhibit IO Modules"
   ]
  },
  {
   "cell_type": "code",
   "execution_count": 20,
   "id": "61dd18e7-ed17-493f-a1fc-0892af416783",
   "metadata": {},
   "outputs": [],
   "source": [
    "# find and replace inhibited\n",
    "# /module\n",
    "for module in prj.iter('Module'): \n",
    "    try:\n",
    "        conn.attrib['Inhibited'] = 'true'\n",
    "    except:\n",
    "        print(module.attrib['Name'] + ' failed to inhibit')\n",
    "        pass\n",
    " \n",
    "#saveFile('_7_2')   "
   ]
  },
  {
   "cell_type": "markdown",
   "id": "5d6b8a87-42e2-4a96-8417-385b0e387dac",
   "metadata": {},
   "source": [
    "## 8 - Forces"
   ]
  },
  {
   "cell_type": "code",
   "execution_count": 21,
   "id": "5adf7236-b60a-4c9f-beb0-999b41693deb",
   "metadata": {},
   "outputs": [],
   "source": [
    "#import force routine add emulation_active to tags"
   ]
  },
  {
   "cell_type": "code",
   "execution_count": 22,
   "id": "d9f94357-5bb7-43f8-a9a2-53e1c6bb720b",
   "metadata": {},
   "outputs": [],
   "source": [
    "# create task\n",
    "newTaskRead = ET.parse(includes+'task.L5x',parser=parser)\n",
    "newTask = newTaskRead.getroot()\n",
    "for tasks in prj.iter('Tasks'): \n",
    "    tasks.append(newTask)\n",
    "#saveFile('_8_1')"
   ]
  },
  {
   "cell_type": "code",
   "execution_count": 23,
   "id": "8f0a802c-455a-4dcf-97f4-56b20d9476f2",
   "metadata": {},
   "outputs": [],
   "source": [
    "# read in program for each PLC\n",
    "newProgramRead = ET.parse(includes+'INTERLOCKS_ProgramOnly.L5x', parser=parser)\n",
    "newProgram = newProgramRead.getroot()\n",
    "for program in prj.iter('Programs'):\n",
    "    program.append(newProgram)\n",
    "    \n",
    "#pull data and remove from routine    \n",
    "rungTextList = []    \n",
    "for routine in newProgram.iter('Routine'):\n",
    "    if routine.attrib['Name'] == 'Main' :\n",
    "        for rungs in routine.iter('Rung'):\n",
    "            rungTemplate = copy.deepcopy(rungs)\n",
    "            for text in rungs.iter('Text'):\n",
    "                rungTextList.append(text.text)\n",
    "            rungs.getparent().remove(rungs)"
   ]
  },
  {
   "cell_type": "code",
   "execution_count": 24,
   "id": "33512396-c9b3-4e4c-be22-f46546d6b07d",
   "metadata": {},
   "outputs": [],
   "source": [
    "# add data to routine            \n",
    "rungIdx = 0\n",
    "for auxPLC in auxPLCs:\n",
    "    content = routine.find('RLLContent')\n",
    "    for i in range(4):\n",
    "        rungCopy = copy.deepcopy(rungTemplate)\n",
    "        content.append(rungCopy)\n",
    "        rungCopy.attrib['Number'] = str(rungIdx)\n",
    "        rungCopy.find('Text').text = rungTextList[i].replace('003',auxPLC[3:6])\n",
    "        rungIdx +=1\n",
    "rungCopy = copy.deepcopy(rungTemplate) \n",
    "rungCopy.attrib['Number'] = str(rungIdx)\n",
    "rungCopy.find('Text').text = 'JSR(Forces,0);'\n",
    "content.append(rungTemplate)"
   ]
  },
  {
   "cell_type": "code",
   "execution_count": 25,
   "id": "47dca87c-ece3-4802-9b30-7b5f998d6fc4",
   "metadata": {},
   "outputs": [
    {
     "name": "stdout",
     "output_type": "stream",
     "text": [
      "EMU_CVS020_I\n",
      "EMU_CVS020_O\n",
      "EMU_CVS021_I\n",
      "EMU_CVS021_O\n"
     ]
    }
   ],
   "source": [
    "# add produce consume tags############################################\n",
    "prodConsTags = ET.parse(includes+'auxPLCTags.L5x', parser=parser)\n",
    "controllerTags = controller.find('Tags')\n",
    "for auxPLC in auxPLCs:\n",
    "    pcTags = copy.deepcopy(prodConsTags) # not sure this deep copy is required\n",
    "    for pcTag in pcTags.findall('Tag'):\n",
    "        pcTag.attrib['Name'] = pcTag.attrib['Name'].replace('CVS003',auxPLC)\n",
    "        print(pcTag.attrib['Name'])\n",
    "        \n",
    "        if pcTag.attrib['TagType'] == \"Consumed\":\n",
    "            info = pcTag.find('ConsumeInfo')\n",
    "            info.attrib['Producer'] = info.attrib['Producer'].replace('CVS003',auxPLC)\n",
    "            idx = controller.attrib['Name'].find('CVS')\n",
    "            info.attrib['RemoteTag'] = info.attrib['RemoteTag'].replace('CVS004', controller.attrib['Name'][idx:idx+6])\n",
    "\n",
    "        controllerTags.append(pcTag)    #print(auxPLC)"
   ]
  },
  {
   "cell_type": "code",
   "execution_count": 26,
   "id": "3276e3cc-cc4e-4d31-aea5-8cea31a969e0",
   "metadata": {},
   "outputs": [
    {
     "data": {
      "text/plain": [
       "'PGT31A_CVS019'"
      ]
     },
     "execution_count": 26,
     "metadata": {},
     "output_type": "execute_result"
    }
   ],
   "source": [
    "controller.attrib['Name']"
   ]
  },
  {
   "cell_type": "code",
   "execution_count": 27,
   "id": "f09ab8de-79e6-4df2-85b9-e625533b2a9d",
   "metadata": {},
   "outputs": [
    {
     "name": "stdout",
     "output_type": "stream",
     "text": [
      "TestInput003\n",
      "TestInput003\n"
     ]
    }
   ],
   "source": [
    "# add local tags\n",
    "for auxPLC in auxPLCs:\n",
    "    for localTag in newProgram.iter('Tag'):\n",
    "        if localTag.attrib['Name'] == 'TestInput003':\n",
    "            print(localTag.attrib['Name'])\n",
    "            testInputTag = copy.deepcopy(localTag)\n",
    "            localTags = newProgram.find('Tags')\n",
    "            testInputTag.attrib['Name'] = 'TestInput' + auxPLC[3:6]\n",
    "            localTags.append(testInputTag)\n",
    "        elif localTag.attrib['Name'] == 'TestOutput003':\n",
    "            testOutputTag = copy.deepcopy(localTag)\n",
    "            localTags = newProgram.find('Tags')\n",
    "            testOutputTag.attrib['Name'] = 'TestOutput' + auxPLC[3:6]\n",
    "            localTags.append(testOutputTag)\n",
    "        #print(localTag.attrib['Name'])\n",
    "\n",
    "\n",
    "        \n",
    "#saveFile('_8_2')"
   ]
  },
  {
   "cell_type": "code",
   "execution_count": 28,
   "id": "10201e6d-da37-4296-ab0b-64002b21ca98",
   "metadata": {},
   "outputs": [
    {
     "name": "stdout",
     "output_type": "stream",
     "text": [
      "EMU_INTERLOCK\n"
     ]
    }
   ],
   "source": [
    "# add data type\n",
    "prodConsDataType = ET.parse(includes+'EMU_INTERLOCK_DataType.L5x', parser=parser).getroot()\n",
    "controllerDataTypes = controller.find('DataTypes')\n",
    "for controllerDataType in controllerDataTypes:\n",
    "    controllerDataTypes.append(prodConsDataType)\n",
    "    if 'EMU_' in controllerDataType.attrib['Name']:\n",
    "        print(controllerDataType.attrib['Name'])"
   ]
  },
  {
   "cell_type": "raw",
   "id": "7ffa8988-4edc-4fbb-a7ed-29d6484765b9",
   "metadata": {},
   "source": [
    "for controllerDataType in controllerDataTypes:\n",
    "    print(controllerDataType.attrib['Name'])"
   ]
  },
  {
   "cell_type": "code",
   "execution_count": null,
   "id": "1e2361ff-0f89-480b-8973-9979aaef5856",
   "metadata": {},
   "outputs": [],
   "source": [
    "\n",
    "\n"
   ]
  },
  {
   "cell_type": "markdown",
   "id": "2b1717ca-bf95-4efc-b4dc-dfd106c20c16",
   "metadata": {},
   "source": [
    "## 9 - Module Fault Inhibit"
   ]
  },
  {
   "cell_type": "code",
   "execution_count": 29,
   "id": "5315e335-4000-40e7-ae45-8793b05c9888",
   "metadata": {},
   "outputs": [],
   "source": [
    "#import force routine"
   ]
  },
  {
   "cell_type": "markdown",
   "id": "77002712-986f-49d8-b050-03bdb5b00c65",
   "metadata": {},
   "source": [
    "## 10 - AFI Controller Diagnostic"
   ]
  },
  {
   "cell_type": "code",
   "execution_count": 30,
   "id": "1daa30b1-aff9-4640-be14-bc4281c79036",
   "metadata": {},
   "outputs": [],
   "source": [
    "rungTextWrite('Controller_Network_Diagnostic','MainRoutine','0','XIO(emulation_active)JSR(Controller_Status,0);')\n",
    "rungTextWrite('Controller_Network_Diagnostic','MainRoutine','1', 'XIO(emulation_active)JSR(Controller_Status,0);')\n",
    "#saveFile('_9_1')"
   ]
  },
  {
   "cell_type": "markdown",
   "id": "a5aaab96-1b1f-4bd0-a62b-b2b1826f8593",
   "metadata": {},
   "source": [
    "## 11 - AFI Tool Interlock Read/Write AOIs"
   ]
  },
  {
   "cell_type": "code",
   "execution_count": 31,
   "id": "c540d9d1-8145-4b7d-828c-31cad2d834d2",
   "metadata": {},
   "outputs": [],
   "source": [
    "# /programs\n",
    "for program in prj.iter('Program'):\n",
    "    programName = program.attrib['Name'] \n",
    "    if(('Interlocks' in programName and not 'Interlocks_CVS' in programName)):\n",
    "        temp = rungText(programName,'R000_Main','3')\n",
    "        if(not 'emulation_active' in temp): # don't double convert\n",
    "            temp = 'XIC(emulation_active)' + temp\n",
    "            rungTextWrite(programName,'R000_Main','3',temp)\n",
    "#saveFile('_11_1')"
   ]
  },
  {
   "cell_type": "markdown",
   "id": "48bda067-2e90-412d-879c-dd5537f9d4a1",
   "metadata": {},
   "source": [
    "## 12 - Branch Short Couple Module ok Bits"
   ]
  },
  {
   "cell_type": "code",
   "execution_count": 32,
   "id": "17df98e8-a10d-44dc-a86b-a4ab2b60607f",
   "metadata": {},
   "outputs": [
    {
     "name": "stdout",
     "output_type": "stream",
     "text": [
      "Interlocks_CDCLC\n",
      "[GSV(Module,Interlocks_CDCLC,EntryStatus,Entry_Status_Value)MEQ(Entry_Status_Value,16#F000,16#4000)XIC(emulation_active),]OTE(Coupler.Module_Ok);\n",
      "\n",
      "Interlocks_CDCLD\n",
      "[GSV(Module,Interlocks_CDCLD,EntryStatus,Entry_Status_Value)MEQ(Entry_Status_Value,16#F000,16#4000)XIC(emulation_active),]OTE(Coupler.Module_Ok);\n",
      "\n",
      "Interlocks_CHT_F\n",
      "[GSV(Module,Interlocks_CHT_F,EntryStatus,Entry_Status_Value)MEQ(Entry_Status_Value,16#F000,16#4000)XIC(emulation_active),]OTE(Coupler.Module_Ok);\n",
      "\n",
      "Interlocks_CHT_G\n",
      "[GSV(Module,Interlocks_CHT_G,EntryStatus,Entry_Status_Value)MEQ(Entry_Status_Value,16#F000,16#4000)XIC(emulation_active),]OTE(Coupler.Module_Ok);\n",
      "\n",
      "Interlocks_KG027\n",
      "[GSV(Module,Interlocks_KG027,EntryStatus,Entry_Status_Value)MEQ(Entry_Status_Value,16#F000,16#4000)XIC(emulation_active),]OTE(Coupler.Module_Ok);\n",
      "\n",
      "Interlocks_KG029\n",
      "[GSV(Module,Interlocks_KG029,EntryStatus,Entry_Status_Value)MEQ(Entry_Status_Value,16#F000,16#4000)XIC(emulation_active),]OTE(Coupler.Module_Ok);\n",
      "\n"
     ]
    }
   ],
   "source": [
    "########################bug\n",
    "# /programs\n",
    "for program in prj.iter('Program'):\n",
    "    programName = program.attrib['Name']\n",
    "    if(('Interlocks' in programName and not 'Interlocks_CVS' in programName and not 'Robot' in programName)):\n",
    "        print(program.attrib['Name'])\n",
    "        temp = rungText(programName,'R000_Main','1')\n",
    "        if(not 'emulation_active' in temp): # don't double convert\n",
    "            splitTemp = temp.split('OTE')\n",
    "            temp = '[' +splitTemp[0].strip() +'XIC(emulation_active),]OTE' + splitTemp[1]\n",
    "            print(temp)\n",
    "            rungTextWrite(programName,'R000_Main','1',temp)\n",
    "#saveFile('_12_1')"
   ]
  },
  {
   "cell_type": "markdown",
   "id": "4d85b191-d156-48a4-ad51-35c61f88e322",
   "metadata": {},
   "source": [
    "## 13 - Branch Short Heartbeat Timer"
   ]
  },
  {
   "cell_type": "code",
   "execution_count": 33,
   "id": "95d67d94-4006-4e5e-b100-e0be7b4be201",
   "metadata": {},
   "outputs": [],
   "source": [
    "# /programs\n",
    "for program in prj.iter('Program'):\n",
    "    programName = program.attrib['Name']\n",
    "    if('Interlocks' in programName):\n",
    "        temp = rungText(programName,'R000_Main','2')\n",
    "        if(not 'emulation_active' in temp): # don't double convert\n",
    "            temp = re.sub('XIO(Heartbeat_Rx_Tmr.DN)','[XIO(Heartbeat_Rx_Tmr.DN),XIC(emulation_active)]',temp)\n",
    "            rungTextWrite(programName,'R000_Main','2',temp)\n",
    "#saveFile('_13_1')"
   ]
  },
  {
   "cell_type": "markdown",
   "id": "5a5538b7-140d-41d3-8ef0-20cd5e80551b",
   "metadata": {},
   "source": [
    "## 14 - AFI GSV Command Alarms"
   ]
  },
  {
   "cell_type": "code",
   "execution_count": 34,
   "id": "5d3b0cae-9f6d-4f0e-b8f7-698250725ce1",
   "metadata": {},
   "outputs": [],
   "source": [
    "# /rungs\n",
    "try:\n",
    "    for program in controller.xpath('Programs'): #dont look in add ons\n",
    "        for rung in program.iter('Rung'):\n",
    "            for text in rung.iter('Text'):\n",
    "                if('GSV(' in text.text):\n",
    "                    text.text = 'XIO(emulation_active)' + text.text\n",
    "                    #print(text.text)\n",
    "except Exception:\n",
    "    print(pgm + \" \" + rout + ' has no rungs')\n",
    "    pass\n",
    "#saveFile('_14_1')"
   ]
  },
  {
   "cell_type": "markdown",
   "id": "515749d9-3957-4d0d-8703-78f00eb154d4",
   "metadata": {},
   "source": [
    "## 15 - I_Drive_Armorstart_294E AOI"
   ]
  },
  {
   "cell_type": "code",
   "execution_count": 35,
   "id": "f3c784f4-7cee-4262-bbf2-8986d13cd3bc",
   "metadata": {},
   "outputs": [],
   "source": [
    "# /controller elements/and lots more\n",
    "# should update revision history as well\n",
    "for aoi in prj.iter('AddOnInstructionDefinition'):\n",
    "    #print(aoi)\n",
    "    if aoi.attrib['Name'] == 'I_Drive_Armorstart_294E':\n",
    "        #print(aoi)\n",
    "        for routine in aoi.iter('Routine'):\n",
    "            if routine.attrib['Name'] == 'Logic':\n",
    "                for rung in routine.iter('Rung'):\n",
    "                    if rung.attrib['Number'] == '3':\n",
    "                        for text in rung.iter('Text'):\n",
    "                            text.text = '[XIO(IO_line_module[module_idx].Fault_Present)EQU(source_status.Fault,0)EQU(source_status.TripStatus,0),GRT(1,0)]XIC(source_status.Ready)XIC(source_status.DisconnectClosed)OTE(O_ready_to_run);' \n",
    "\n",
    "#saveFile('_15_1')        "
   ]
  },
  {
   "cell_type": "markdown",
   "id": "20af7ee8-96b4-4fd0-996a-69da2a62da2a",
   "metadata": {},
   "source": [
    "## 16 - I_Drive_Powerflex_525 AOI"
   ]
  },
  {
   "cell_type": "code",
   "execution_count": 36,
   "id": "71a7e8a6-fe01-418e-9cf8-88432269e051",
   "metadata": {},
   "outputs": [],
   "source": [
    "# /controller elements/and lots more\n",
    "# should update revision history as well\n",
    "for aoi in prj.iter('AddOnInstructionDefinition'):\n",
    "    #print(aoi)\n",
    "    if aoi.attrib['Name'] == 'I_Drive_Powerflex_525':\n",
    "        #print(aoi)\n",
    "        for routine in aoi.iter('Routine'):\n",
    "            if routine.attrib['Name'] == 'Logic':\n",
    "                for rung in routine.iter('Rung'):\n",
    "                    if rung.attrib['Number'] == '2':\n",
    "                        for text in rung.iter('Text'):\n",
    "                            text.text = '[XIO(IO_line_module[module_idx].Fault_Present),GRT(1,0)]XIC(source_status.Ready)OTE(O_ready_to_run);'                              \n",
    "#saveFile('_16_1')                                        "
   ]
  },
  {
   "cell_type": "markdown",
   "id": "763ae6af-96d8-4ed7-8404-7c7ad84c58e4",
   "metadata": {},
   "source": [
    "## 17 - Standard Reset Logic For INTERLOCKS"
   ]
  },
  {
   "cell_type": "code",
   "execution_count": 37,
   "id": "75950222-263e-4104-89cb-05a137eec656",
   "metadata": {},
   "outputs": [],
   "source": [
    "# part of import, see 8"
   ]
  },
  {
   "cell_type": "markdown",
   "id": "97efdec2-0e26-4364-a044-92fb39150c90",
   "metadata": {},
   "source": [
    "## 18 - Zone Reset"
   ]
  },
  {
   "cell_type": "code",
   "execution_count": 38,
   "id": "5851bd82-4cde-4051-b600-7de872ea98aa",
   "metadata": {},
   "outputs": [],
   "source": [
    "# part of import, see 8"
   ]
  },
  {
   "cell_type": "markdown",
   "id": "a73dec4e-9bf8-4775-bce1-5398a0feafa6",
   "metadata": {
    "tags": []
   },
   "source": [
    "## 18 - Import ServoVirtual AOI"
   ]
  },
  {
   "cell_type": "code",
   "execution_count": 39,
   "id": "3f4e634d-19af-439b-ba18-42ce65d629b2",
   "metadata": {},
   "outputs": [],
   "source": [
    "#only required with turntables....need to lookup or find in program\n",
    "for program in prj.iter('Program'):\n",
    "    idx = program.attrib['Name'].find('L')\n",
    "    if program.attrib['Name'][idx+1:idx+3].isnumeric():\n",
    "        #print(program.attrib['Name'][1:4])\n",
    "        newProgramRead = ET.parse(includes+'ServoVirtual_AOI.L5x', parser=parser)\n",
    "        for newProgram in newProgramRead.iter('AddOnInstructionDefinition'):\n",
    "            for aois in prj.iter('AddOnInstructionDefinitions'):\n",
    "                aois.append(newProgram)\n",
    "        # configure aoi call            \n",
    "        for routine in program.iter('Routine'):\n",
    "            if routine.attrib['Name'] == 'ServoDrive':\n",
    "                for rung in program.iter('Rung'):\n",
    "                    if rung.attrib['Number'] == '13':\n",
    "                        for text in rung.iter('Text'):\n",
    "                            text.text = 'ServoVirtual(ServoVirtual' + program.attrib['Name'] + ',EMU_KN' + program.attrib['Name'][1:4] + '_71A01,Servo.SafetyOK,LastScanTime_us,ServoActions,HMI_servo_data);'   \n",
    "        # configure virtual servos   \n",
    "        servoRead = ET.parse(includes+'ServoConfig.L5X', parser=parser)\n",
    "        virtualTags = ET.parse(includes+'ServoVirtualTag.L5X', parser=parser)\n",
    "        for tags in controller.xpath('Tags'):\n",
    "            for newServo in servoRead.iter('Tag'):      \n",
    "                newServo.attrib['Name'] = 'EMU_KN' + program.attrib['Name'][1:4] + '_71A01'\n",
    "                tags.append(newServo)\n",
    "            for virtualTag in virtualTags.iter('Tag'):    \n",
    "                virtualTag.attrib['Name'] = 'ServoVirtual' + program.attrib['Name']\n",
    "                tags.append(virtualTag)\n",
    "        # set KN to no group        \n",
    "        for tag in controller.xpath('Tag'):\n",
    "            if tag.attrib['Name'] == 'KN' + program.attrib['Name'][1:4] + '_71A01':\n",
    "                for param in tag.iter('AxisParameters'):\n",
    "                    param.attrib['MotionGroup'] = ''\n",
    "#saveFile('_18_1')"
   ]
  },
  {
   "cell_type": "code",
   "execution_count": null,
   "id": "9236551b-00c0-4374-905a-ab9391e06970",
   "metadata": {},
   "outputs": [],
   "source": []
  },
  {
   "cell_type": "markdown",
   "id": "99726f65-0ed1-485a-ad4c-37a86d36b6e1",
   "metadata": {
    "tags": []
   },
   "source": [
    "## 19 - Configure ServoVirtual Servos"
   ]
  },
  {
   "cell_type": "code",
   "execution_count": 40,
   "id": "c0cbb43a-30c7-47b9-9dfd-f2c747dd47c7",
   "metadata": {},
   "outputs": [],
   "source": [
    "#see 18"
   ]
  },
  {
   "cell_type": "markdown",
   "id": "de079d98-bae0-4887-81b3-264aeb41340c",
   "metadata": {},
   "source": [
    "## 20 - Check E-Drive Status"
   ]
  },
  {
   "cell_type": "code",
   "execution_count": 41,
   "id": "702e13c2-bcf4-40c1-899c-a8cef7087d38",
   "metadata": {},
   "outputs": [],
   "source": [
    "#Ensure Drive_X_status.ready or .power_switch_ok bits are not high in the EXXX Alarm routines. If they are low, edit manually."
   ]
  },
  {
   "cell_type": "markdown",
   "id": "41b7f708-1ca8-459d-8ec6-550e3a1ae3a6",
   "metadata": {},
   "source": [
    "## Write out project"
   ]
  },
  {
   "cell_type": "code",
   "execution_count": 42,
   "id": "e1514bfe-a805-47fa-8f80-2a0a6a1a4ddb",
   "metadata": {},
   "outputs": [],
   "source": [
    "saveFile('')"
   ]
  },
  {
   "cell_type": "markdown",
   "id": "661d091c-3a60-4b83-aa08-a91648db87ea",
   "metadata": {},
   "source": [
    "## Verify Tags Exist"
   ]
  },
  {
   "cell_type": "code",
   "execution_count": 43,
   "id": "a35527fc-308a-4746-9fdf-d02b9115633f",
   "metadata": {},
   "outputs": [],
   "source": [
    "#point to taglist, verify tags exist in controller"
   ]
  },
  {
   "cell_type": "raw",
   "id": "8cfffbff-5461-4485-9eb9-e274e29ca272",
   "metadata": {},
   "source": []
  },
  {
   "cell_type": "raw",
   "id": "d3f4eedc-c445-492e-89ea-06085f1974ef",
   "metadata": {},
   "source": []
  },
  {
   "cell_type": "code",
   "execution_count": null,
   "id": "4b0b48d9-c8c8-4536-a6e3-ab8748bfa057",
   "metadata": {},
   "outputs": [],
   "source": []
  },
  {
   "cell_type": "code",
   "execution_count": null,
   "id": "f1feca48-f928-48bc-9d95-5ae93c45b11d",
   "metadata": {},
   "outputs": [],
   "source": []
  },
  {
   "cell_type": "code",
   "execution_count": null,
   "id": "e2fb11b4-db7c-4ed4-909d-69dd745fd672",
   "metadata": {},
   "outputs": [],
   "source": []
  }
 ],
 "metadata": {
  "kernelspec": {
   "display_name": "Python 3 (ipykernel)",
   "language": "python",
   "name": "python3"
  },
  "language_info": {
   "codemirror_mode": {
    "name": "ipython",
    "version": 3
   },
   "file_extension": ".py",
   "mimetype": "text/x-python",
   "name": "python",
   "nbconvert_exporter": "python",
   "pygments_lexer": "ipython3",
   "version": "3.10.8"
  }
 },
 "nbformat": 4,
 "nbformat_minor": 5
}
